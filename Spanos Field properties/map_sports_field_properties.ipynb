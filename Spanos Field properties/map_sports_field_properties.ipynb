{
 "cells": [
  {
   "cell_type": "code",
   "execution_count": 64,
   "metadata": {},
   "outputs": [],
   "source": [
    "import pandas as pd\n",
    "import numpy as np\n",
    "import matplotlib.pyplot as plt\n",
    "from matplotlib.colors import LinearSegmentedColormap\n",
    "from scipy.interpolate import griddata\n",
    "from shapely.geometry import Point, Polygon"
   ]
  },
  {
   "cell_type": "markdown",
   "metadata": {},
   "source": [
    "### Load field data collected in 2020, georeferenced points, and merge into 1 df"
   ]
  },
  {
   "cell_type": "code",
   "execution_count": 65,
   "metadata": {},
   "outputs": [
    {
     "data": {
      "text/html": [
       "<div>\n",
       "<style scoped>\n",
       "    .dataframe tbody tr th:only-of-type {\n",
       "        vertical-align: middle;\n",
       "    }\n",
       "\n",
       "    .dataframe tbody tr th {\n",
       "        vertical-align: top;\n",
       "    }\n",
       "\n",
       "    .dataframe thead th {\n",
       "        text-align: right;\n",
       "    }\n",
       "</style>\n",
       "<table border=\"1\" class=\"dataframe\">\n",
       "  <thead>\n",
       "    <tr style=\"text-align: right;\">\n",
       "      <th></th>\n",
       "      <th>id</th>\n",
       "      <th>TDRshort</th>\n",
       "      <th>TDRmed</th>\n",
       "      <th>NDVI</th>\n",
       "      <th>Irtherm</th>\n",
       "      <th>Trufirm</th>\n",
       "    </tr>\n",
       "  </thead>\n",
       "  <tbody>\n",
       "    <tr>\n",
       "      <th>0</th>\n",
       "      <td>1</td>\n",
       "      <td>45.2</td>\n",
       "      <td>50.9</td>\n",
       "      <td>0.85</td>\n",
       "      <td>70</td>\n",
       "      <td>457</td>\n",
       "    </tr>\n",
       "    <tr>\n",
       "      <th>1</th>\n",
       "      <td>2</td>\n",
       "      <td>48.4</td>\n",
       "      <td>50.0</td>\n",
       "      <td>0.84</td>\n",
       "      <td>73</td>\n",
       "      <td>534</td>\n",
       "    </tr>\n",
       "    <tr>\n",
       "      <th>2</th>\n",
       "      <td>3</td>\n",
       "      <td>47.0</td>\n",
       "      <td>52.8</td>\n",
       "      <td>0.77</td>\n",
       "      <td>72</td>\n",
       "      <td>457</td>\n",
       "    </tr>\n",
       "    <tr>\n",
       "      <th>3</th>\n",
       "      <td>4</td>\n",
       "      <td>45.2</td>\n",
       "      <td>53.6</td>\n",
       "      <td>0.84</td>\n",
       "      <td>73</td>\n",
       "      <td>518</td>\n",
       "    </tr>\n",
       "    <tr>\n",
       "      <th>4</th>\n",
       "      <td>5</td>\n",
       "      <td>42.6</td>\n",
       "      <td>52.6</td>\n",
       "      <td>0.83</td>\n",
       "      <td>73</td>\n",
       "      <td>459</td>\n",
       "    </tr>\n",
       "  </tbody>\n",
       "</table>\n",
       "</div>"
      ],
      "text/plain": [
       "   id  TDRshort  TDRmed  NDVI  Irtherm  Trufirm\n",
       "0   1      45.2    50.9  0.85       70      457\n",
       "1   2      48.4    50.0  0.84       73      534\n",
       "2   3      47.0    52.8  0.77       72      457\n",
       "3   4      45.2    53.6  0.84       73      518\n",
       "4   5      42.6    52.6  0.83       73      459"
      ]
     },
     "execution_count": 65,
     "metadata": {},
     "output_type": "execute_result"
    }
   ],
   "source": [
    "field_data = pd.read_csv(\"./field_data.csv\")\n",
    "field_data.head()"
   ]
  },
  {
   "cell_type": "code",
   "execution_count": 66,
   "metadata": {},
   "outputs": [
    {
     "data": {
      "text/html": [
       "<div>\n",
       "<style scoped>\n",
       "    .dataframe tbody tr th:only-of-type {\n",
       "        vertical-align: middle;\n",
       "    }\n",
       "\n",
       "    .dataframe tbody tr th {\n",
       "        vertical-align: top;\n",
       "    }\n",
       "\n",
       "    .dataframe thead th {\n",
       "        text-align: right;\n",
       "    }\n",
       "</style>\n",
       "<table border=\"1\" class=\"dataframe\">\n",
       "  <thead>\n",
       "    <tr style=\"text-align: right;\">\n",
       "      <th></th>\n",
       "      <th>id</th>\n",
       "      <th>latitude</th>\n",
       "      <th>longitude</th>\n",
       "    </tr>\n",
       "  </thead>\n",
       "  <tbody>\n",
       "    <tr>\n",
       "      <th>0</th>\n",
       "      <td>100</td>\n",
       "      <td>35.298817</td>\n",
       "      <td>-120.665521</td>\n",
       "    </tr>\n",
       "    <tr>\n",
       "      <th>1</th>\n",
       "      <td>99</td>\n",
       "      <td>35.298717</td>\n",
       "      <td>-120.665489</td>\n",
       "    </tr>\n",
       "    <tr>\n",
       "      <th>2</th>\n",
       "      <td>98</td>\n",
       "      <td>35.298616</td>\n",
       "      <td>-120.665456</td>\n",
       "    </tr>\n",
       "    <tr>\n",
       "      <th>3</th>\n",
       "      <td>97</td>\n",
       "      <td>35.298515</td>\n",
       "      <td>-120.665424</td>\n",
       "    </tr>\n",
       "    <tr>\n",
       "      <th>4</th>\n",
       "      <td>96</td>\n",
       "      <td>35.298414</td>\n",
       "      <td>-120.665391</td>\n",
       "    </tr>\n",
       "  </tbody>\n",
       "</table>\n",
       "</div>"
      ],
      "text/plain": [
       "    id   latitude   longitude\n",
       "0  100  35.298817 -120.665521\n",
       "1   99  35.298717 -120.665489\n",
       "2   98  35.298616 -120.665456\n",
       "3   97  35.298515 -120.665424\n",
       "4   96  35.298414 -120.665391"
      ]
     },
     "execution_count": 66,
     "metadata": {},
     "output_type": "execute_result"
    }
   ],
   "source": [
    "points = pd.read_csv(\"./points.csv\", index_col=False)\n",
    "points.head()"
   ]
  },
  {
   "cell_type": "code",
   "execution_count": 67,
   "metadata": {},
   "outputs": [
    {
     "data": {
      "text/html": [
       "<div>\n",
       "<style scoped>\n",
       "    .dataframe tbody tr th:only-of-type {\n",
       "        vertical-align: middle;\n",
       "    }\n",
       "\n",
       "    .dataframe tbody tr th {\n",
       "        vertical-align: top;\n",
       "    }\n",
       "\n",
       "    .dataframe thead th {\n",
       "        text-align: right;\n",
       "    }\n",
       "</style>\n",
       "<table border=\"1\" class=\"dataframe\">\n",
       "  <thead>\n",
       "    <tr style=\"text-align: right;\">\n",
       "      <th></th>\n",
       "      <th>id</th>\n",
       "      <th>latitude</th>\n",
       "      <th>longitude</th>\n",
       "      <th>TDRshort</th>\n",
       "      <th>TDRmed</th>\n",
       "      <th>NDVI</th>\n",
       "      <th>Irtherm</th>\n",
       "      <th>Trufirm</th>\n",
       "    </tr>\n",
       "  </thead>\n",
       "  <tbody>\n",
       "    <tr>\n",
       "      <th>0</th>\n",
       "      <td>100</td>\n",
       "      <td>35.298817</td>\n",
       "      <td>-120.665521</td>\n",
       "      <td>41.1</td>\n",
       "      <td>52.9</td>\n",
       "      <td>0.68</td>\n",
       "      <td>68</td>\n",
       "      <td>519</td>\n",
       "    </tr>\n",
       "    <tr>\n",
       "      <th>1</th>\n",
       "      <td>99</td>\n",
       "      <td>35.298717</td>\n",
       "      <td>-120.665489</td>\n",
       "      <td>39.5</td>\n",
       "      <td>48.7</td>\n",
       "      <td>0.79</td>\n",
       "      <td>70</td>\n",
       "      <td>621</td>\n",
       "    </tr>\n",
       "    <tr>\n",
       "      <th>2</th>\n",
       "      <td>98</td>\n",
       "      <td>35.298616</td>\n",
       "      <td>-120.665456</td>\n",
       "      <td>35.0</td>\n",
       "      <td>39.6</td>\n",
       "      <td>0.77</td>\n",
       "      <td>70</td>\n",
       "      <td>517</td>\n",
       "    </tr>\n",
       "    <tr>\n",
       "      <th>3</th>\n",
       "      <td>97</td>\n",
       "      <td>35.298515</td>\n",
       "      <td>-120.665424</td>\n",
       "      <td>30.2</td>\n",
       "      <td>38.7</td>\n",
       "      <td>0.80</td>\n",
       "      <td>72</td>\n",
       "      <td>558</td>\n",
       "    </tr>\n",
       "    <tr>\n",
       "      <th>4</th>\n",
       "      <td>96</td>\n",
       "      <td>35.298414</td>\n",
       "      <td>-120.665391</td>\n",
       "      <td>44.5</td>\n",
       "      <td>50.5</td>\n",
       "      <td>0.83</td>\n",
       "      <td>71</td>\n",
       "      <td>493</td>\n",
       "    </tr>\n",
       "  </tbody>\n",
       "</table>\n",
       "</div>"
      ],
      "text/plain": [
       "    id   latitude   longitude  TDRshort  TDRmed  NDVI  Irtherm  Trufirm\n",
       "0  100  35.298817 -120.665521      41.1    52.9  0.68       68      519\n",
       "1   99  35.298717 -120.665489      39.5    48.7  0.79       70      621\n",
       "2   98  35.298616 -120.665456      35.0    39.6  0.77       70      517\n",
       "3   97  35.298515 -120.665424      30.2    38.7  0.80       72      558\n",
       "4   96  35.298414 -120.665391      44.5    50.5  0.83       71      493"
      ]
     },
     "execution_count": 67,
     "metadata": {},
     "output_type": "execute_result"
    }
   ],
   "source": [
    "merged_data = pd.merge(points, field_data, on=\"id\")\n",
    "merged_data.head()"
   ]
  },
  {
   "cell_type": "markdown",
   "metadata": {},
   "source": [
    "### IDW interpolation"
   ]
  },
  {
   "cell_type": "code",
   "execution_count": 68,
   "metadata": {},
   "outputs": [],
   "source": [
    "# define field corners\n",
    "ne = [35.298971, -120.664876]\n",
    "se = [35.298036, -120.664575]\n",
    "sw = [35.297895, -120.665234]\n",
    "nw = [35.298829, -120.665535]\n",
    "\n",
    "field_boundary = Polygon([nw, ne, se, sw, nw])\n",
    "\n",
    "# create grid\n",
    "grid_size = 40\n",
    "min_lat, max_lat = min([nw[0], ne[0], sw[0], se[0]]), max([nw[0], ne[0], sw[0], se[0]])\n",
    "min_lon, max_lon = min([nw[1], ne[1], sw[1], se[1]]), max([nw[1], ne[1], sw[1], se[1]])\n",
    "grid_lat, grid_lon = np.mgrid[\n",
    "    min_lat : max_lat : grid_size * 1j, min_lon : max_lon : grid_size * 1j\n",
    "]"
   ]
  },
  {
   "cell_type": "code",
   "execution_count": 69,
   "metadata": {},
   "outputs": [],
   "source": [
    "# interpolate\n",
    "points = merged_data[[\"latitude\", \"longitude\"]].values\n",
    "values = merged_data[\"Irtherm\"].values\n",
    "grid_values = griddata(points, values, (grid_lat, grid_lon), method=\"cubic\")"
   ]
  },
  {
   "cell_type": "code",
   "execution_count": 81,
   "metadata": {},
   "outputs": [
    {
     "data": {
      "image/png": "[encoded data removed]",
      "text/plain": [
       "<Figure size 640x480 with 2 Axes>"
      ]
     },
     "metadata": {},
     "output_type": "display_data"
    }
   ],
   "source": [
    "# plot\n",
    "plt.imshow(\n",
    "    grid_values,\n",
    "    extent=(min_lon, max_lon, min_lat, max_lat),\n",
    "    origin=\"lower\",\n",
    "    cmap=\"inferno\",\n",
    ")\n",
    "plt.colorbar(label=\"F\")\n",
    "plt.title(\"Canopy temp\")\n",
    "plt.xlabel(\"Longitude\")\n",
    "plt.ylabel(\"Latitude\")\n",
    "plt.show()"
   ]
  }
 ],
 "metadata": {
  "kernelspec": {
   "display_name": "Python 3",
   "language": "python",
   "name": "python3"
  },
  "language_info": {
   "codemirror_mode": {
    "name": "ipython",
    "version": 3
   },
   "file_extension": ".py",
   "mimetype": "text/x-python",
   "name": "python",
   "nbconvert_exporter": "python",
   "pygments_lexer": "ipython3",
   "version": "3.10.8"
  }
 },
 "nbformat": 4,
 "nbformat_minor": 2
}
